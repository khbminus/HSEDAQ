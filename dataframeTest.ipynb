{
 "cells": [
  {
   "cell_type": "code",
   "execution_count": 1,
   "metadata": {
    "collapsed": true
   },
   "outputs": [],
   "source": [
    "import yfinance as yf\n",
    "import pandas as pd\n",
    "from get_all_tickers.get_tickers import get_tickers"
   ]
  },
  {
   "cell_type": "code",
   "execution_count": 2,
   "metadata": {
    "pycharm": {
     "name": "#%%\n"
    }
   },
   "outputs": [],
   "source": [
    "tickers = get_tickers(NYSE=False, NASDAQ=True, AMEX=False)  # We need only NASDAQ\n",
    "tickers = [\"GOOGL\"]"
   ]
  },
  {
   "cell_type": "code",
   "execution_count": 26,
   "metadata": {
    "pycharm": {
     "name": "#%%\n"
    }
   },
   "outputs": [
    {
     "name": "stdout",
     "output_type": "stream",
     "text": [
      "[*********************100%***********************]  1 of 1 completed\n"
     ]
    }
   ],
   "source": [
    "\n",
    "data = yf.download(tickers, interval='1m', period='5d', group_by=\"columns\")"
   ]
  },
  {
   "cell_type": "code",
   "execution_count": 27,
   "metadata": {
    "pycharm": {
     "name": "#%%\n"
    }
   },
   "outputs": [
    {
     "name": "stdout",
     "output_type": "stream",
     "text": [
      "<class 'pandas.core.frame.DataFrame'>\n",
      "DatetimeIndex: 1515 entries, 2021-11-09 09:30:00-05:00 to 2021-11-15 13:49:27-05:00\n",
      "Data columns (total 6 columns):\n",
      " #   Column     Non-Null Count  Dtype  \n",
      "---  ------     --------------  -----  \n",
      " 0   Open       1515 non-null   float64\n",
      " 1   High       1515 non-null   float64\n",
      " 2   Low        1515 non-null   float64\n",
      " 3   Close      1515 non-null   float64\n",
      " 4   Adj Close  1515 non-null   float64\n",
      " 5   Volume     1515 non-null   int64  \n",
      "dtypes: float64(5), int64(1)\n",
      "memory usage: 82.9 KB\n"
     ]
    }
   ],
   "source": [
    "data.info()"
   ]
  },
  {
   "cell_type": "code",
   "execution_count": 38,
   "metadata": {
    "pycharm": {
     "name": "#%%\n"
    }
   },
   "outputs": [
    {
     "data": {
      "text/plain": "                                  Open         High          Low        Close  \\\nDatetime                                                                        \n2021-11-09 09:30:00-05:00  2984.659912  2996.689941  2984.659912  2993.824951   \n2021-11-09 09:31:00-05:00  2991.550049  2991.550049  2984.780029  2986.350098   \n2021-11-09 09:32:00-05:00  2984.110107  2987.600098  2976.989014  2976.989014   \n2021-11-09 09:33:00-05:00  2976.495117  2991.800049  2975.020020  2991.800049   \n2021-11-09 09:34:00-05:00  2992.449707  2992.669922  2980.000000  2980.000000   \n\n                             Adj Close  Volume  \nDatetime                                        \n2021-11-09 09:30:00-05:00  2993.824951   41416  \n2021-11-09 09:31:00-05:00  2986.350098    5173  \n2021-11-09 09:32:00-05:00  2976.989014   13151  \n2021-11-09 09:33:00-05:00  2991.800049    5465  \n2021-11-09 09:34:00-05:00  2980.000000    5319  ",
      "text/html": "<div>\n<style scoped>\n    .dataframe tbody tr th:only-of-type {\n        vertical-align: middle;\n    }\n\n    .dataframe tbody tr th {\n        vertical-align: top;\n    }\n\n    .dataframe thead th {\n        text-align: right;\n    }\n</style>\n<table border=\"1\" class=\"dataframe\">\n  <thead>\n    <tr style=\"text-align: right;\">\n      <th></th>\n      <th>Open</th>\n      <th>High</th>\n      <th>Low</th>\n      <th>Close</th>\n      <th>Adj Close</th>\n      <th>Volume</th>\n    </tr>\n    <tr>\n      <th>Datetime</th>\n      <th></th>\n      <th></th>\n      <th></th>\n      <th></th>\n      <th></th>\n      <th></th>\n    </tr>\n  </thead>\n  <tbody>\n    <tr>\n      <th>2021-11-09 09:30:00-05:00</th>\n      <td>2984.659912</td>\n      <td>2996.689941</td>\n      <td>2984.659912</td>\n      <td>2993.824951</td>\n      <td>2993.824951</td>\n      <td>41416</td>\n    </tr>\n    <tr>\n      <th>2021-11-09 09:31:00-05:00</th>\n      <td>2991.550049</td>\n      <td>2991.550049</td>\n      <td>2984.780029</td>\n      <td>2986.350098</td>\n      <td>2986.350098</td>\n      <td>5173</td>\n    </tr>\n    <tr>\n      <th>2021-11-09 09:32:00-05:00</th>\n      <td>2984.110107</td>\n      <td>2987.600098</td>\n      <td>2976.989014</td>\n      <td>2976.989014</td>\n      <td>2976.989014</td>\n      <td>13151</td>\n    </tr>\n    <tr>\n      <th>2021-11-09 09:33:00-05:00</th>\n      <td>2976.495117</td>\n      <td>2991.800049</td>\n      <td>2975.020020</td>\n      <td>2991.800049</td>\n      <td>2991.800049</td>\n      <td>5465</td>\n    </tr>\n    <tr>\n      <th>2021-11-09 09:34:00-05:00</th>\n      <td>2992.449707</td>\n      <td>2992.669922</td>\n      <td>2980.000000</td>\n      <td>2980.000000</td>\n      <td>2980.000000</td>\n      <td>5319</td>\n    </tr>\n  </tbody>\n</table>\n</div>"
     },
     "execution_count": 38,
     "metadata": {},
     "output_type": "execute_result"
    }
   ],
   "source": [
    "data.head()"
   ]
  },
  {
   "cell_type": "code",
   "execution_count": 37,
   "metadata": {
    "pycharm": {
     "name": "#%%\n"
    }
   },
   "outputs": [
    {
     "name": "stdout",
     "output_type": "stream",
     "text": [
      "2021-11-09 09:30:00-0500\n"
     ]
    }
   ],
   "source": [
    "from datetime import datetime, timezone\n",
    "d = datetime.strptime(\"2021-11-09 09:30:00-05:00\", \"%Y-%m-%d %H:%M:%S%z\")\n",
    "print(d.strftime(\"%Y-%m-%d %H:%M:%S%z\"))"
   ]
  },
  {
   "cell_type": "code",
   "execution_count": null,
   "metadata": {},
   "outputs": [],
   "source": []
  }
 ],
 "metadata": {
  "kernelspec": {
   "display_name": "Python 3 (ipykernel)",
   "language": "python",
   "name": "python3"
  },
  "language_info": {
   "codemirror_mode": {
    "name": "ipython",
    "version": 3
   },
   "file_extension": ".py",
   "mimetype": "text/x-python",
   "name": "python",
   "nbconvert_exporter": "python",
   "pygments_lexer": "ipython3",
   "version": "3.9.7"
  }
 },
 "nbformat": 4,
 "nbformat_minor": 1
}